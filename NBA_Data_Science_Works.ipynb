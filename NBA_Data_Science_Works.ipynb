{
  "nbformat": 4,
  "nbformat_minor": 0,
  "metadata": {
    "colab": {
      "provenance": [],
      "collapsed_sections": [
        "IB_8swHzPBic",
        "C1bznTl4kf99",
        "XzlLSximVU0H",
        "xbU1ngJZEmb_",
        "GdJv0Y2mEunh",
        "ILxsu2EiEx4Q",
        "VasBd3BH5rN8",
        "sDHCPSSV4vkL"
      ]
    },
    "kernelspec": {
      "name": "python3",
      "display_name": "Python 3"
    },
    "language_info": {
      "name": "python"
    }
  },
  "cells": [
    {
      "cell_type": "markdown",
      "source": [
        "**PREDICT NBA GAMES**\n",
        "\n",
        ">![National_Basketball_Association_logo.svg.png](data:image/png;base64,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)\n",
        "\n",
        "\n",
        "\n",
        "\n",
        "\n",
        "\n",
        "\n",
        "The National Basketball Association (NBA) is a professional basketball league in North America composed of 30 teams (29 in the United States and 1 in Canada). It is one of the major professional sports leagues in the United States and Canada and is considered the premier professional basketball league in the world.\n",
        "\n",
        "The league was founded in New York City on June 6, 1946, as the Basketball Association of America (BAA). It changed its name to the National Basketball Association on August 3, 1949, after merging with the competing National Basketball League (NBL). In 1976, the NBA and the American Basketball Association (ABA) merged, adding four franchises to the NBA. The NBA's regular season runs from October to April, with each team playing 82 games. The league's playoff tournament extends into June. As of 2020, NBA players are the world's best paid athletes by average annual salary per player. [Wikipedia](https://en.wikipedia.org/wiki/National_Basketball_Association)\n",
        "\n",
        "\n",
        "I am gonna try to predict NBA games winners. We use data from [Basketboll Reference](https://www.basketball-reference.com). I scraped and parsed data from this cite.\n",
        "\n",
        "**General Information About Data**\n",
        "\n",
        "There are stats for total (teams) stats and player of each team stats. [Basketboll Reference Glossary](https://www.basketball-reference.com/about/glossary.html)\n",
        "\n",
        "\n",
        "- 3P - 3-Point Field Goals\n",
        "\n",
        "- 3P% - 3-Point Field Goal Percentage (available since the 1979-80 season in the NBA); the formula is 3P / 3PA.\n",
        "\n",
        "- 3PA - 3-Point Field Goal Attempts (available since the 1979-80 season in the NBA)\n",
        "\n",
        "- AST - Assists\n",
        "\n",
        "- AST% - Assist Percentage (available since the 1964-65 season in the NBA); the formula is 100 * AST / (((MP / (Tm MP / 5)) * Tm FG) - FG). Assist percentage is an estimate of the percentage of teammate field goals a player assisted while he was on the floor.\n",
        "\n",
        "- BLK - Blocks (available since the 1973-74 season in the NBA)\n",
        "\n",
        "- BLK% - Block Percentage (available since the 1973-74 season in the NBA); the formula is 100 * (BLK * (Tm MP / 5)) / (MP * (Opp FGA - Opp 3PA)). Block percentage is an estimate of the percentage of opponent two-point field goal attempts blocked by the player while he was on the floor.\n",
        "\n",
        "- BPM - Box Plus/Minus (available since the 1973-74 season in the NBA); a box score estimate of the points per 100 possessions that a player contributed above a league-average player, translated to an average team. Please see the article About Box Plus/Minus (BPM) for more information.\n",
        "\n",
        "- DRB - Defensive Rebounds (available since the 1973-74 season in the NBA)\n",
        "\n",
        "- DRB% - Defensive Rebound Percentage (available since the 1970-71 season in the NBA); the formula is 100 * (DRB * (Tm MP / 5)) / (MP * (Tm DRB + Opp ORB)). Defensive rebound percentage is an estimate of the percentage of available defensive rebounds a player grabbed while he was on the floor.\n",
        "\n",
        "- DRtg - Defensive Rating (available since the 1973-74 season in the NBA); for players and teams it is points allowed per 100 posessions. This rating was developed by Dean Oliver, author of Basketball on Paper. Please see the article Calculating Individual Offensive and Defensive Ratings for more information.\n",
        "\n",
        "- eFG% - Effective Field Goal Percentage; the formula is (FG + 0.5 * 3P) / FGA. This statistic adjusts for the fact that a 3-point field goal is worth one more point than a 2-point field goal. For example, suppose Player A goes 4 for 10 with 2 threes, while Player B goes 5 for 10 with 0 threes. Each player would have 10 points from field goals, and thus would have the same effective field goal percentage (50%).\n",
        "\n",
        "- FG - Field Goals (includes both 2-point field goals and 3-point field goals)\n",
        "\n",
        "- FG% - Field Goal Percentage; the formula is FG / FGA.\n",
        "\n",
        "- FGA - Field Goal Attempts (includes both 2-point field goal attempts and 3-point field goal attempts)\n",
        "\n",
        "- FT - Free Throws\n",
        "\n",
        "- FT% - Free Throw Percentage; the formula is FT / FTA.\n",
        "\n",
        "- FTA - Free Throw Attempts\n",
        "\n",
        "- MP - Minutes Played (available since the 1951-52 season)\n",
        "\n",
        "- ORtg - Offensive Rating (available since the 1977-78 season in the NBA); for players it is points produced per 100 posessions, while for teams it is points scored per 100 possessions. This rating was developed by Dean Oliver, author of Basketball on Paper. Please see the article Calculating Individual Offensive and Defensive Ratings for more information.\n",
        "\n",
        "- ORB - Offensive Rebounds (available since the 1973-74 season in the NBA)\n",
        "\n",
        "- ORB% - Offensive Rebound Percentage (available since the 1970-71 season in the NBA); the formula is 100 * (ORB * (Tm MP / 5)) / (MP * (Tm ORB + Opp DRB)). Offensive rebound percentage is an estimate of the percentage of available offensive rebounds a player grabbed while he was on the floor.\n",
        "\n",
        "- PTS - Points\n",
        "\n",
        "- STL - Steals (available since the 1973-74 season in the NBA)\n",
        "\n",
        "- STL% - Steal Percentage (available since the 1973-74 season in the NBA); the formula is 100 * (STL * (Tm MP / 5)) / (MP * Opp Poss). Steal Percentage is an estimate of the percentage of opponent possessions that end with a steal by the player while he was on the floor.\n",
        "\n",
        "\n",
        "- TOV - Turnovers (available since the 1977-78 season in the NBA)\n",
        "\n",
        "- TOV% - Turnover Percentage (available since the 1977-78 season in the NBA); the formula is 100 * TOV / (FGA + 0.44 * FTA + TOV). Turnover percentage is an estimate of turnovers per 100 plays.\n",
        "\n",
        "- TRB - Total Rebounds (available since the 1950-51 season)\n",
        "\n",
        "- TRB% - Total Rebound Percentage (available since the 1970-71 season in the NBA); the formula is 100 * (TRB * (Tm MP / 5)) / (MP * (Tm TRB + Opp TRB)). Total rebound percentage is an estimate of the percentage of available rebounds a player grabbed while he was on the floor.\n",
        "\n",
        "- TS% - True Shooting Percentage; the formula is PTS / (2 * TSA). True shooting percentage is a measure of shooting efficiency that takes into account field goals, 3-point field goals, and free throws.\n",
        "\n",
        "- Usg% - Usage Percentage (available since the 1977-78 season in the NBA); the formula is 100 * ((FGA + 0.44 * FTA + TOV) * (Tm MP / 5)) / (MP * (Tm FGA + 0.44 * Tm FTA + Tm TOV)). Usage percentage is an estimate of the percentage of team plays used by a player while he was on the floor.\n",
        "\n",
        "\n",
        "**Note:** Tm means **Team** and Opp means **Opposite**\n",
        "\n",
        "- 3Par: 3PA/FG\n",
        "- Ftr: FTA/FGA\n",
        "- TSA: TSA - True Shooting Attempts; the formula is FGA + 0.44 * FTA."
      ],
      "metadata": {
        "id": "4eltK5NvV4Je"
      }
    },
    {
      "cell_type": "code",
      "execution_count": null,
      "metadata": {
        "colab": {
          "base_uri": "https://localhost:8080/"
        },
        "id": "G8adj8IQE0nD",
        "outputId": "7ac6ac19-7146-416a-cbd0-a0c2ab2d9e8a"
      },
      "outputs": [
        {
          "output_type": "stream",
          "name": "stdout",
          "text": [
            "Drive already mounted at /content/drive; to attempt to forcibly remount, call drive.mount(\"/content/drive\", force_remount=True).\n"
          ]
        }
      ],
      "source": [
        "from google.colab import drive\n",
        "drive.mount('/content/drive')"
      ]
    },
    {
      "cell_type": "code",
      "source": [
        "#pip install catboost"
      ],
      "metadata": {
        "id": "_ztUjrRgMklC"
      },
      "execution_count": null,
      "outputs": []
    },
    {
      "cell_type": "code",
      "source": [
        "import os                                                       #Import os library\n",
        "import pandas as pd                                             #Import pandas library\n",
        "import numpy as np                                              #Import numpy library\n",
        "import matplotlib.pyplot as plt                                 #Import matplotlib.pytplot library\n",
        "import seaborn as sns                                           #Import seaborn library\n",
        "from tqdm import tqdm                                           #Import tqdm library\n",
        "import time                                                     #Import time library\n",
        "import joblib                                                   #Import joblib library\n",
        "\n",
        "from sklearn.model_selection import TimeSeriesSplit\n",
        "from sklearn.metrics import accuracy_score, f1_score\n",
        "from catboost import CatBoostClassifier\n"
      ],
      "metadata": {
        "id": "CxHFl4i7FIJp"
      },
      "execution_count": null,
      "outputs": []
    },
    {
      "cell_type": "markdown",
      "source": [
        "# CONFIGURATION"
      ],
      "metadata": {
        "id": "3yE4xJqGFpE6"
      }
    },
    {
      "cell_type": "code",
      "source": [
        "class config:\n",
        "    train_path_team = \"/content/drive/MyDrive/Colab_Notebooks/NBA_Predict_V2/nba_games_V6_081123_02_04.csv\"\n",
        "    train_path_player = \"/content/drive/MyDrive/Colab_Notebooks/NBA_Predict_V2/nba_players_V6_081123_02_04.csv\"\n",
        "    model_path = \"/content/drive/MyDrive/Colab_Notebooks/NBA_Predict_V2/models\"\n",
        "\n",
        "\n",
        "    not_fe_stats = [\"3p\", \"3pa\", \"fg\", \"fga\", \"ft\", \"fta\", \"ast\", \"blk\", \"drb\", \"orb\", \"stl\", \"tov\", \"trb\", \\\n",
        "                    \"3p_opp\", \"3pa_opp\", \"fg_opp\", \"fga_opp\", \"ft_opp\", \"fta_opp\", \"ast_opp\", \"blk_opp\", \"drb_opp\", \"orb_opp\", \"stl_opp\", \"tov_opp\", \"trb_opp\"]\n",
        "\n",
        "    add_nextgame = True\n",
        "    add_rolling_features = True\n",
        "    add_diff_day = True\n",
        "    add_win_streak = True\n",
        "    add_winstreak_morethanone = True\n",
        "    add_rolling_days_between_nextgame_opp = True\n",
        "\n",
        "\n",
        "    use_opp_features = False\n",
        "    use_avg_features = False\n",
        "    use_not_fe_stats = False\n",
        "    not_use_high_correlated_features = True\n",
        "    use_asist_sub_steal = True\n",
        "    use_opp_features = False\n",
        "\n",
        "    show_graph = False\n",
        "    fix_names = True\n",
        "\n",
        "    n_splits = 5\n",
        "    seed = 42"
      ],
      "metadata": {
        "id": "H4WP4koYGjSe"
      },
      "execution_count": null,
      "outputs": []
    },
    {
      "cell_type": "markdown",
      "source": [
        "# UTILS"
      ],
      "metadata": {
        "id": "IB_8swHzPBic"
      }
    },
    {
      "cell_type": "code",
      "source": [
        "def draw_countplot(dataframe, x_axis, col_hue):\n",
        "  # Parameters:\n",
        "  # dataframe: Dataframe which will draw\n",
        "  # x_axis: X axis for graph\n",
        "  # col_hue: Column which using in hue parameter of graph\n",
        "\n",
        "  # Create figüre with size\n",
        "  plt.figure(figsize = (20,10))\n",
        "\n",
        "  ax = sns.countplot(x = x_axis, hue = col_hue, data = dataframe)\n",
        "\n",
        "  # Annotate the boxes\n",
        "  for p in ax.patches:\n",
        "      ax.annotate(f'{p.get_height()}', (p.get_x() + p.get_width() / 2., p.get_height()), ha='center', va='bottom')\n",
        "\n",
        "  plt.title(f\"Relationship between {x_axis} and {col_hue}\")\n",
        "  plt.show()"
      ],
      "metadata": {
        "id": "_o7rM7ABeRcW"
      },
      "execution_count": null,
      "outputs": []
    },
    {
      "cell_type": "code",
      "source": [
        "def add_target(group: pd.core.groupby.generic.DataFrameGroupBy) -> pd.core.groupby.generic.DataFrameGroupBy:\n",
        "    \"\"\"\n",
        "    This function adds a target column indicating whether each team has won or lost in the next match\n",
        "\n",
        "    Parameter:\n",
        "        group: Groupby object\n",
        "    \"\"\"\n",
        "    group[\"target\"] = group[\"won\"].shift(-1)\n",
        "    return group"
      ],
      "metadata": {
        "id": "XDR3QNcNPcZE"
      },
      "execution_count": null,
      "outputs": []
    },
    {
      "cell_type": "code",
      "source": [
        "def feature_type(dataframe: pd.DataFrame) -> list:\n",
        "    \"\"\"\n",
        "    This function determine type of features.\n",
        "\n",
        "    Parameter:\n",
        "        dataframe : pd.DataFrame object\n",
        "\n",
        "    Return:\n",
        "        categorical_features: categorical features of dataframe\n",
        "        object_features:      object_features features of dataframe\n",
        "        numerical_features:   numerical_features features of dataframe\n",
        "    \"\"\"\n",
        "    #Determine type of features\n",
        "    categorical_features = [\"team\", \"home\", \"team_opp\", \"home_opp\", \"season\", \"won\", \"target\"]\n",
        "    object_features = [col for col in dataframe.select_dtypes(include = \"object\") if not col in categorical_features]\n",
        "    numerical_features = [col for col in dataframe.select_dtypes(include = \"number\") if not col in categorical_features]\n",
        "\n",
        "    return categorical_features, object_features, numerical_features"
      ],
      "metadata": {
        "id": "tKEFqMGCJGlm"
      },
      "execution_count": null,
      "outputs": []
    },
    {
      "cell_type": "code",
      "source": [
        "def first_process(dataframe: pd.DataFrame) -> pd.DataFrame:\n",
        "    #Drop first column\n",
        "    dataframe = dataframe.iloc[:,1:]\n",
        "\n",
        "    #Drop mp and mp_opp features\n",
        "    dataframe = dataframe.drop([\"mp\", \"mp_opp\", \"pts\", \"pts_opp\"], axis = 1)\n",
        "    #Change some features datatype\n",
        "    dataframe[\"won\"] = dataframe[\"won\"].astype(int)\n",
        "    dataframe[\"date\"] = pd.to_datetime(dataframe[\"date\"])\n",
        "\n",
        "    #Add target feature to dataframe\n",
        "    dataframe = dataframe.groupby(\"team\", group_keys=False).apply(add_target)\n",
        "\n",
        "    #Chech count of null values in dataframe\n",
        "    for col in dataframe.columns:\n",
        "        null_count = dataframe[col].isnull().sum()\n",
        "        if null_count != 0:\n",
        "            print(f\"There are {null_count} missing values in {col} feature !!!!!!!!!!!!!!!!!!!!!! \\n\")\n",
        "\n",
        "\n",
        "    #Check duplicated rows\n",
        "    print(f\"Total duplicated row count: {dataframe.duplicated().sum()}  !!!!!!!!!!!!!!!!!!!!!!! \\n\")\n",
        "\n",
        "    #Check duplicated features\n",
        "    duplicated_features = dataframe.columns[dataframe.columns.duplicated()].unique()\n",
        "    print(f\"Total duplicated feature count : {len(duplicated_features)}   !!!!!!!!!!!!!!!!!!!!!!! \\n\")\n",
        "\n",
        "\n",
        "    #Drop feature with has a one unique number\n",
        "    one_unique_number = [col for col in dataframe.columns if len(dataframe[col].unique()) == 1]\n",
        "    print(f\"Features with has a one unique number: {one_unique_number}\")\n",
        "    dataframe = dataframe.drop(one_unique_number, axis = 1)\n",
        "\n",
        "    #Drop normal stats\n",
        "    if not config.use_not_fe_stats:\n",
        "        dataframe = dataframe.drop(config.not_fe_stats, axis = 1)\n",
        "\n",
        "\n",
        "    # Fix not proper percentage features\n",
        "    percentage_features = [col for col in dataframe.columns if \"%\" in col]\n",
        "    not_proper_percentage_features  = [col for col in percentage_features if dataframe[col].max() > 1]\n",
        "    dataframe[not_proper_percentage_features] = dataframe[not_proper_percentage_features] / 100\n",
        "\n",
        "\n",
        "    return dataframe"
      ],
      "metadata": {
        "id": "4LRkLswBPCl9"
      },
      "execution_count": null,
      "outputs": []
    },
    {
      "cell_type": "markdown",
      "source": [
        "# Total Team Stats"
      ],
      "metadata": {
        "id": "gqKoV_O_HZ8E"
      }
    },
    {
      "cell_type": "code",
      "source": [
        "df_team = pd.read_csv(config.train_path_team)"
      ],
      "metadata": {
        "id": "m1sMsQOzQ5lb"
      },
      "execution_count": null,
      "outputs": []
    },
    {
      "cell_type": "markdown",
      "source": [
        "## EDA"
      ],
      "metadata": {
        "id": "BprQoZYhRH8T"
      }
    },
    {
      "cell_type": "code",
      "source": [
        "df_team = first_process(df_team)\n",
        "categorical_features, object_features, numerical_features = feature_type(df_team)"
      ],
      "metadata": {
        "colab": {
          "base_uri": "https://localhost:8080/"
        },
        "id": "J1xc1EIpSEF6",
        "outputId": "ecec4247-aa8b-4612-c7e0-230088be2d2e"
      },
      "execution_count": null,
      "outputs": [
        {
          "output_type": "stream",
          "name": "stdout",
          "text": [
            "There are 30 missing values in target feature !!!!!!!!!!!!!!!!!!!!!! \n",
            "\n",
            "Total duplicated row count: 0  !!!!!!!!!!!!!!!!!!!!!!! \n",
            "\n",
            "Total duplicated feature count : 0   !!!!!!!!!!!!!!!!!!!!!!! \n",
            "\n",
            "Features with has a one unique number: ['+/-', 'usg%', '+/-_opp', 'usg%_opp']\n"
          ]
        }
      ]
    },
    {
      "cell_type": "code",
      "source": [
        "df_team[numerical_features].describe().T"
      ],
      "metadata": {
        "id": "VksCR2HARLyV"
      },
      "execution_count": null,
      "outputs": []
    },
    {
      "cell_type": "markdown",
      "source": [
        "### Correlation"
      ],
      "metadata": {
        "id": "C1bznTl4kf99"
      }
    },
    {
      "cell_type": "code",
      "source": [
        "if config.show_graph:\n",
        "    plt.figure(figsize = (30, 30))\n",
        "    correlations = df_team[numerical_features].corr().abs()\n",
        "    mask = np.triu(np.ones_like(correlations, dtype = bool))\n",
        "    sns.heatmap(correlations, annot = True, fmt = \".2f\", cmap = \"coolwarm\", mask = mask)\n",
        "    plt.show()"
      ],
      "metadata": {
        "id": "brTvc1I_rpXD"
      },
      "execution_count": null,
      "outputs": []
    },
    {
      "cell_type": "code",
      "source": [
        "if config.show_graph:\n",
        "    plt.figure(figsize = (20, 15))\n",
        "    correlations_target = df_team[numerical_features].corr().abs()[[\"target\"]].sort_values(by = \"target\", ascending = False)\n",
        "    sns.heatmap(correlations_target, annot = True, fmt = \".3f\", cmap = \"coolwarm\")\n",
        "    plt.show()"
      ],
      "metadata": {
        "id": "Qc-bXSKYrp_S"
      },
      "execution_count": null,
      "outputs": []
    },
    {
      "cell_type": "code",
      "source": [
        "df_team_corr = df_team[numerical_features].corr().abs()\n",
        "upper_tri_df_team = df_team_corr.where(np.triu(np.ones(df_team_corr.shape),k=1).astype(\"bool\"))\n",
        "to_drop_2 = [column for column in upper_tri_df_team if any(upper_tri_df_team[column] > 0.80)]\n",
        "def find_corelated_column(upper_tri,col):\n",
        "    result = upper_tri[col][upper_tri[col] > 0.80]\n",
        "    print(f\"{col} features has correlation with {result.index.tolist()} as a rank {result.values} \")\n",
        "\n",
        "for col in to_drop_2:\n",
        "    find_corelated_column(upper_tri= upper_tri_df_team, col = col)"
      ],
      "metadata": {
        "colab": {
          "base_uri": "https://localhost:8080/"
        },
        "id": "LrVENBXVZXZ9",
        "outputId": "76010461-4cf6-4aa7-dc54-85c117358fd1"
      },
      "execution_count": null,
      "outputs": [
        {
          "output_type": "stream",
          "name": "stdout",
          "text": [
            "ts% features has correlation with ['fg%'] as a rank [0.91493521] \n",
            "efg% features has correlation with ['fg%', 'ts%'] as a rank [0.94618217 0.96573369] \n",
            "ortg features has correlation with ['ts%', 'efg%'] as a rank [0.85033324 0.82104896] \n",
            "total features has correlation with ['ortg'] as a rank [0.86704493] \n",
            "ts%_opp features has correlation with ['drtg', 'fg%_opp'] as a rank [0.85033324 0.91493521] \n",
            "efg%_opp features has correlation with ['drtg', 'fg%_opp', 'ts%_opp'] as a rank [0.82104896 0.94618217 0.96573369] \n",
            "orb%_opp features has correlation with ['drb%'] as a rank [0.99999902] \n",
            "drb%_opp features has correlation with ['orb%'] as a rank [0.99999902] \n",
            "trb%_opp features has correlation with ['trb%'] as a rank [0.99999686] \n",
            "ortg_opp features has correlation with ['drtg', 'ts%_opp', 'efg%_opp'] as a rank [1.         0.85033324 0.82104896] \n",
            "drtg_opp features has correlation with ['ts%', 'efg%', 'ortg', 'total'] as a rank [0.85033324 0.82104896 1.         0.86704493] \n",
            "total_opp features has correlation with ['drtg', 'ortg_opp'] as a rank [0.86704493 0.86704493] \n"
          ]
        }
      ]
    },
    {
      "cell_type": "markdown",
      "source": [
        "- ts% and fg% features will remove\n",
        "- drtg will remove\n",
        "- ortg will remove\n",
        "\n",
        "------------------------------------------------\n",
        "- ts%_opp and fg%_opp will remove\n",
        "- orb%_opp will remove\n",
        "- ortg_opp will remove\n",
        "- drtg_opp will remove\n",
        "\n",
        "\n",
        "\n",
        "\n",
        "\n",
        "\n",
        "\n"
      ],
      "metadata": {
        "id": "SF0qyTEhkNUq"
      }
    },
    {
      "cell_type": "code",
      "source": [
        "if config.not_use_high_correlated_features:\n",
        "    df_team = df_team.drop([\"ts%\", \"fg%\", \"ortg\", \"drtg\", \"ts%_opp\", \"fg%_opp\", \"orb%_opp\", \"ortg_opp\", \"drtg_opp\"], axis = 1)"
      ],
      "metadata": {
        "id": "QwwfjfBaiQR9"
      },
      "execution_count": null,
      "outputs": []
    },
    {
      "cell_type": "markdown",
      "source": [
        "### Fix Names"
      ],
      "metadata": {
        "id": "XzlLSximVU0H"
      }
    },
    {
      "cell_type": "code",
      "source": [
        "if config.fix_names:\n",
        "    # Create dictionary for fix names\n",
        "    char_previous = \"ÁāäàâáãČèéêëùûūîíôóçčģŠšýŽžğĞıİöÖüÜşŞçÇćò\"\n",
        "    char_next = \"AaaaaaaCeeeeuuuiiooccgSsyZzgGiIoOuUsScCco\"\n",
        "    dict_translate_english_character = dict(zip(list(char_previous), list(char_next)))\n",
        "    dict_translate_english_character[\"Ã¶\"] = \"o\"\n",
        "    dict_translate_english_character[\"Å¾\"] = \"o\"\n",
        "    dict_translate_english_character[\"ņģ\"] = \"ng\"\n",
        "    dict_translate_english_character[\"ņ\"]  = \"n\"\n",
        "    dict_translate_english_character[\"Å†Ä£\"] = \"ng\"\n",
        "    dict_translate_english_character[\"Iii\"] = \"III\"\n",
        "    dict_translate_english_character[\"Iv\"] = \"IV\"\n",
        "    dict_translate_english_character[\"İL\"] = \"Il\"\n",
        "\n",
        "\n",
        "\n",
        "    def fix_player_names(list_features: list, dataframe: pd.DataFrame) -> pd.DataFrame:\n",
        "        \"\"\"\n",
        "        This function corrects the names inside the features. It gets these corrections from the dictionary named dict_translate_english_character\n",
        "\n",
        "        Parameters:\n",
        "            list_features: list of features which will fix\n",
        "            dataframe: dataframe which has a list_features\n",
        "\n",
        "        Return:\n",
        "            dataframe: dataframe changed\n",
        "        \"\"\"\n",
        "        for col in tqdm(list_features):\n",
        "            for key, value in dict_translate_english_character.items():\n",
        "                dataframe[col] = dataframe[col].apply(lambda x: str(x).replace(key, value))\n",
        "\n",
        "        return dataframe\n",
        "\n",
        "\n",
        "    def fix_player_names_fromlist(player_names_list: list) -> list:\n",
        "        \"\"\"\n",
        "        This function corrects the names inside the list. It gets these corrections from the dictionary named dict_translate_english_character\n",
        "\n",
        "        Parameters:\n",
        "            player_names_list: list which has a player names\n",
        "\n",
        "\n",
        "        Return:\n",
        "            player_names_list: list changed\n",
        "        \"\"\"\n",
        "\n",
        "        for index, player_name in enumerate(tqdm(player_names_list)):\n",
        "            for key, value in dict_translate_english_character.items():\n",
        "                player_names_list[index] = player_names_list[index].replace(key, value)\n",
        "\n",
        "        return player_names_list\n",
        "\n",
        "    playername_cols = [col for col in df_team.columns if \"player\" in col]\n",
        "    df_team = fix_player_names(playername_cols, df_team)"
      ],
      "metadata": {
        "colab": {
          "base_uri": "https://localhost:8080/"
        },
        "id": "neisjUDVDxKJ",
        "outputId": "ed0701e5-c048-4590-b5e9-cb6219e5f883"
      },
      "execution_count": null,
      "outputs": [
        {
          "output_type": "stream",
          "name": "stderr",
          "text": [
            "100%|██████████| 20/20 [00:05<00:00,  3.59it/s]\n"
          ]
        }
      ]
    },
    {
      "cell_type": "markdown",
      "source": [
        "## Feature Engineering"
      ],
      "metadata": {
        "id": "K_O-SC--r1aW"
      }
    },
    {
      "cell_type": "markdown",
      "source": [
        "### Add Assist Subtraction Steal"
      ],
      "metadata": {
        "id": "xbU1ngJZEmb_"
      }
    },
    {
      "cell_type": "code",
      "source": [
        "if config.use_asist_sub_steal:\n",
        "    df_team[\"assist_sub_steal\"] = df_team[\"ast%\"] - df_team[\"stl%\"]\n",
        "    df_team = df_team.drop([\"ast%\", \"stl%\"], axis = 1)\n",
        "\n",
        "    if config.show_graph:\n",
        "        sns.kdeplot(data = [\"assist_sub_steal\"])\n",
        "        plt.title(\"Assist Subtraction Steal\")\n",
        "        plt.show()"
      ],
      "metadata": {
        "id": "a6kzVwuskdk8"
      },
      "execution_count": null,
      "outputs": []
    },
    {
      "cell_type": "markdown",
      "source": [
        "### Add Rolled Features"
      ],
      "metadata": {
        "id": "GdJv0Y2mEunh"
      }
    },
    {
      "cell_type": "code",
      "source": [
        "categorical_features, object_features, numerical_features = feature_type(df_team)\n",
        "if config.add_rolling_features:\n",
        "    group = [\"season\", \"team\"]\n",
        "    extract_features = [col for col in numerical_features if not \"target\" in col] + [\"won\"]\n",
        "    group_str = \"_\".join(group)\n",
        "    for col in tqdm(extract_features):\n",
        "        for roll in [5]:\n",
        "            rolled = df_team.groupby(group, as_index=False)[col].rolling(roll, min_periods = 1, closed = \"both\")\n",
        "            df_team[f\"{col}_rolled_{group_str}_mean_{roll}\"] = rolled.mean().fillna(0)[col]\n"
      ],
      "metadata": {
        "colab": {
          "base_uri": "https://localhost:8080/"
        },
        "id": "c9Zz_et1QNAu",
        "outputId": "432aeb47-96d5-4e35-e0f1-f26eb13c1b3e"
      },
      "execution_count": null,
      "outputs": [
        {
          "output_type": "stream",
          "name": "stderr",
          "text": [
            "100%|██████████| 27/27 [00:01<00:00, 20.00it/s]\n"
          ]
        }
      ]
    },
    {
      "cell_type": "markdown",
      "source": [
        "### Add Next Game Info"
      ],
      "metadata": {
        "id": "ILxsu2EiEx4Q"
      }
    },
    {
      "cell_type": "code",
      "source": [
        "# Takımların sezonun son maçındaki nextgame sütunları NaN olacaktır.!!!!!!!!!!!!!!!!!!!!!!!!!!\n",
        "# Ayrıca takımların son maçındaki nextgame sütunlarıda NaN olacaktır.\n",
        "if config.add_nextgame:\n",
        "    shifted_features = [col for col in object_features if \"player\" in col] + [\"home\", \"date\", \"team_opp\"]\n",
        "    group = [\"season\", \"team\"]\n",
        "    for col in tqdm(shifted_features):\n",
        "        df_team[f\"nextgame_{col}\"] = df_team.groupby(group, group_keys = False)[col].shift(-1)\n",
        "\n",
        "    if config.show_graph:\n",
        "        # Draw counptlot for nextgame_home and target\n",
        "        draw_countplot(df_team, \"nextgame_home\", \"target\")\n",
        "\n",
        "\n",
        "    if config.add_rolling_days_between_nextgame_opp:\n",
        "        rolled_cols = [col for col in df_team.columns if \"rolled\" in col]\n",
        "        a = df_team.merge(df_team[rolled_cols + [\"team\", \"season\", \"nextgame_date\"]], left_on = [\"nextgame_team_opp\", \"season\", \"nextgame_date\"], right_on = [\"team\", \"season\", \"nextgame_date\"], suffixes = (\"\", \"_nextgame_opp\"))\n",
        "        df_team = a.drop(\"team_nextgame_opp\", axis = 1)\n",
        "\n",
        "    if config.add_diff_day:\n",
        "\n",
        "        df_team[\"diff_day\"] = (df_team[\"nextgame_date\"] - df_team[\"date\"]).dt.days\n",
        "        a = df_team.merge(df_team[[\"team\", \"season\", \"nextgame_date\", \"diff_day\"]], left_on = [\"nextgame_team_opp\", \"season\", \"nextgame_date\"], right_on = [\"team\", \"season\", \"nextgame_date\"], suffixes = (\"\", \"_between_nextgame_opp\"))\n",
        "        df_team[\"diff_day_between_teams\"] =  a[\"diff_day_between_nextgame_opp\"] - df_team[\"diff_day\"]\n",
        "        df_team = df_team.drop(\"diff_day\", axis = 1)\n",
        "\n",
        "        if config.show_graph:\n",
        "            draw_countplot(df_team, \"diff_day_between_teams\", \"target\")"
      ],
      "metadata": {
        "colab": {
          "base_uri": "https://localhost:8080/"
        },
        "id": "qbvKzdO0ZTw1",
        "outputId": "761d62e7-8c18-4caa-bd94-e3df2aaff032"
      },
      "execution_count": null,
      "outputs": [
        {
          "output_type": "stream",
          "name": "stderr",
          "text": [
            "100%|██████████| 23/23 [00:00<00:00, 173.81it/s]\n"
          ]
        }
      ]
    },
    {
      "cell_type": "markdown",
      "source": [
        "### Add Teams to Dataframe to Predict"
      ],
      "metadata": {
        "id": "VasBd3BH5rN8"
      }
    },
    {
      "cell_type": "code",
      "source": [
        "if config.add_nextgame:\n",
        "    def add_teams_to_predict(dataframe: pd.DataFrame, first_team: str, second_team: str, date: str, first_team_players: list, second_team_players: list) -> pd.DataFrame:\n",
        "\n",
        "        nextgame_playername_cols = [col for col in dataframe.columns if \"nextgame_player\" in col and not \"opp\" in col]\n",
        "        nextgame_opposite_playername_cols = [col for col in dataframe.columns if \"nextgame_player\" in col and \"opp\" in col]\n",
        "\n",
        "        last_index_first_team = dataframe[dataframe[\"team\"] == first_team].index[-1]\n",
        "        last_index_second_team = dataframe[dataframe[\"team\"] == second_team].index[-1]\n",
        "\n",
        "        dataframe.loc[last_index_first_team, \"nextgame_date\"]  = pd.to_datetime(date)\n",
        "        dataframe.loc[last_index_second_team, \"nextgame_date\"] = pd.to_datetime(date)\n",
        "\n",
        "        if config.add_diff_day:\n",
        "            dataframe.loc[last_index_first_team, \"diff_day_between_teams\"] = (dataframe.loc[last_index_first_team,\"nextgame_date\"] - dataframe.loc[last_index_first_team,\"date\"]).dt.days - (dataframe.loc[last_index_second_team,\"nextgame_date\"] - dataframe.loc[last_index_second_team,\"date\"]).dt.days\n",
        "            dataframe.loc[last_index_second_team, \"diff_day_between_teams\"] = (dataframe.loc[last_index_second_team,\"nextgame_date\"] - dataframe.loc[last_index_second_team,\"date\"]).dt.days - (dataframe.loc[last_index_first_team,\"nextgame_date\"] - dataframe.loc[last_index_first_team,\"date\"]).dt.days\n",
        "\n",
        "        dataframe.loc[last_index_first_team, \"nextgame_home\"]  = 0\n",
        "        dataframe.loc[last_index_second_team, \"nextgame_home\"] = 1\n",
        "\n",
        "        dataframe.loc[last_index_first_team, \"nextgame_opp\"]  = second_team\n",
        "        dataframe.loc[last_index_second_team, \"nextgame_opp\"] = first_team\n",
        "\n",
        "\n",
        "        if config.fix_names:\n",
        "            first_team_players  = fix_player_names_fromlist(first_team_players)\n",
        "            second_team_players = fix_player_names_fromlist(second_team_players)\n",
        "\n",
        "        dataframe.loc[last_index_first_team, nextgame_playername_cols] = first_team_players\n",
        "        dataframe.loc[last_index_second_team, nextgame_playername_cols] = second_team_players\n",
        "\n",
        "        dataframe.loc[last_index_first_team, nextgame_opposite_playername_cols] = second_team_players\n",
        "        dataframe.loc[last_index_second_team, nextgame_opposite_playername_cols] = first_team_players\n",
        "\n",
        "        return dataframe\n",
        "\n",
        "\n",
        "\n",
        "\n",
        "\n",
        "    # ------------------- BURAYA TAHMİN EDİLECEK TAKIMLARI UYGUN FORMATTA EKLE--------------------------------------------------------\n",
        "    \"\"\"df_team = add_teams_to_predict(dataframe = df_team,first_team=\"TOR\", second_team=\"CHI\", date = \"2023-02-19\",\n",
        "                                first_team_players = [\"OG Anunoby\", \"Pascal Siakam\", \"Scottie Barnes\", \"Jakob Poeltl\", \"Gary Trent Jr.\",\n",
        "                                            \"Jeff Dowtin\", \"Chris Boucher\", \"Precious Achiuwa\", \"OG Anunoby\", \"Pascal Siakam\"],\n",
        "\n",
        "                                second_team_players= [\"DeMar DeRozan\", \"Zach LaVine\", \"Nikola Vučević\", \"Patrick Beverley\", \"Alex Caruso\",\n",
        "                                            \"Coby White\", \"Patrick Williams\", \"Ayo Dosunmu\", \"DeMar DeRozan\", \"Zach LaVine\"])\"\"\"\n"
      ],
      "metadata": {
        "id": "IPwa6o_B5h8J"
      },
      "execution_count": null,
      "outputs": []
    },
    {
      "cell_type": "markdown",
      "source": [
        "### Add Win Streak"
      ],
      "metadata": {
        "id": "sDHCPSSV4vkL"
      }
    },
    {
      "cell_type": "code",
      "source": [
        "if config.add_win_streak:\n",
        "    df_team[\"win_streak\"] = df_team.groupby(['team', 'season'], group_keys = False)['won'].apply(lambda x: (x * (x.groupby((x != x.shift()).cumsum()).cumcount() + 1))).astype(int)\n",
        "    if config.add_winstreak_morethanone:\n",
        "        df_team[\"is_winstreak_morethanone\"] = df_team[\"win_streak\"] > 1\n",
        "        df_team = df_team.drop(\"win_streak\", axis = 1)"
      ],
      "metadata": {
        "id": "zCTXnED84y4n"
      },
      "execution_count": null,
      "outputs": []
    },
    {
      "cell_type": "markdown",
      "source": [
        "# MODELING"
      ],
      "metadata": {
        "id": "0heq5guOI0D6"
      }
    },
    {
      "cell_type": "code",
      "source": [
        "null_counts = df_team.isnull().sum()\n",
        "print(f\"This is a count of null values: {null_counts[null_counts > 0]}\")"
      ],
      "metadata": {
        "colab": {
          "base_uri": "https://localhost:8080/"
        },
        "id": "X8E7YSpPEic_",
        "outputId": "58b6022a-2a13-4f64-81b8-74feb3e40d65"
      },
      "execution_count": null,
      "outputs": [
        {
          "output_type": "stream",
          "name": "stdout",
          "text": [
            "This is a count of null values: Series([], dtype: int64)\n"
          ]
        }
      ]
    },
    {
      "cell_type": "code",
      "source": [
        "categorical_features = [\"team\", \"team_opp\", \"nextgame_team_opp\", \"home\", \"home_opp\", \"nextgame_home\", \"season\", \"won\"]\n",
        "object_features = [col for col in df_team.select_dtypes(include = \"object\") if not col in categorical_features]\n",
        "numerical_features = [col for col in df_team.select_dtypes(include = \"number\") if not col in categorical_features and not \"target\" in col]\n",
        "\n",
        "\n",
        "if not config.use_opp_features:\n",
        "    if not config.use_not_fe_stats:\n",
        "        base_features = [\"3p%\", \"ft%\", \"pf\", \"efg%\", \"3par\", \"ftr\", \"orb%\", \"drb%\", \"trb%\", \"blk%\", \"tov%\", \"total\"]\n",
        "        opp_base_features = set([col for col in numerical_features for col2 in base_features if f\"{col2}_opp\" in col])\n",
        "        numerical_features = [col for col in numerical_features if not col in opp_base_features]\n",
        "\n",
        "    else:\n",
        "        base_features = [\"3p%\", \"ft%\", \"pf\", \"efg\", \"3par\", \"ftr\", \"orb%\", \"drb%\", \"trb%\", \"blk%\", \"tov%\", \"total\"] + [col for col in config.not_fe_stats if not \"opp\" in col]\n",
        "        opp_base_features = set([col for col in numerical_features for col2 in base_features if f\"{col2}_opp\" in col])\n",
        "        numerical_features = [col for col in numerical_features if not col in opp_base_features]"
      ],
      "metadata": {
        "id": "ym8yRQ73JQ1b"
      },
      "execution_count": null,
      "outputs": []
    },
    {
      "cell_type": "code",
      "source": [
        "from sklearn.preprocessing import LabelEncoder, StandardScaler\n",
        "\n",
        "encoder = LabelEncoder()\n",
        "df_team[\"team\"] = encoder.fit_transform(df_team[\"team\"])\n",
        "df_team[\"team_opp\"] = encoder.transform(df_team[\"team_opp\"])\n",
        "df_team[\"nextgame_team_opp\"] = encoder.transform(df_team[\"nextgame_team_opp\"])\n",
        "\n",
        "std_scaler = StandardScaler()\n",
        "df_team[numerical_features] = std_scaler.fit_transform(df_team[numerical_features])\n",
        "\n",
        "df_team[categorical_features] = df_team[categorical_features].astype(int)"
      ],
      "metadata": {
        "id": "JbpqEw7vCfXl"
      },
      "execution_count": null,
      "outputs": []
    },
    {
      "cell_type": "code",
      "source": [
        "X, y = df_team[numerical_features + categorical_features], df_team[\"target\"]\n",
        "cv = TimeSeriesSplit(config.n_splits)\n",
        "\n",
        "fold_accs = list()\n",
        "fold_f1_scores = list()\n",
        "models = list()\n",
        "for idx, (train_idx, val_idx) in enumerate(cv.split(X=X)):\n",
        "    start_time = time.time()\n",
        "\n",
        "    X_train = X.loc[train_idx].copy()\n",
        "    y_train = y.loc[train_idx].copy()\n",
        "    X_val = X.loc[val_idx].copy()\n",
        "    y_val = y.loc[val_idx].copy()\n",
        "    print(f'train: {X_train.shape}')\n",
        "    print(f'val: {X_val.shape}')\n",
        "\n",
        "    model = CatBoostClassifier(\n",
        "            **{\n",
        "                \"one_hot_max_size\": 120,\n",
        "                \"cat_features\": categorical_features,\n",
        "                'learning_rate': 0.003,\n",
        "                \"iterations\": 5000,\n",
        "                \"random_state\": config.seed,\n",
        "                \"eval_metric\": \"Accuracy\",\n",
        "                \"depth\": 7,\n",
        "                \"border_count\": 254,\n",
        "                \"grow_policy\": \"Depthwise\",\n",
        "                \"allow_writing_files\": False,\n",
        "                \"use_best_model\": True\n",
        "            }\n",
        "        )\n",
        "    model.fit(X_train,\n",
        "                  y_train,\n",
        "                  eval_set = (X_val, y_val),\n",
        "                  early_stopping_rounds=1500,\n",
        "                  verbose=250)\n",
        "    val_pred = model.predict(X_val)\n",
        "\n",
        "    fold_acc = accuracy_score(y_true = y_val, y_pred = val_pred)\n",
        "    fold_f1_score = f1_score(y_true = y_val, y_pred = val_pred)\n",
        "\n",
        "    print(f\"Fold {idx} Accuracy_Score:{fold_acc} \\n\")\n",
        "    print(f\"Fold {idx} F1 Score: {fold_f1_score} \\n\")\n",
        "\n",
        "    fold_accs.append(fold_acc)\n",
        "    fold_f1_scores.append(fold_f1_score)\n",
        "\n",
        "    model_file_path = f\"cb_fold_{idx+1}.pkl\"\n",
        "    joblib.dump(model, os.path.join(config.model_path, model_file_path))\n",
        "    models.append(model)\n",
        "\n",
        "    end_time = time.time()\n",
        "    elapsed = end_time - start_time\n",
        "    print(f\"Time to Modeling for Fold {idx}: {elapsed}\")"
      ],
      "metadata": {
        "colab": {
          "base_uri": "https://localhost:8080/"
        },
        "id": "G7zC8JpaD83-",
        "outputId": "0cfd1daf-6e31-4f74-e2bd-54a1f69f49af"
      },
      "execution_count": null,
      "outputs": [
        {
          "output_type": "stream",
          "name": "stdout",
          "text": [
            "train: (3383, 56)\n",
            "val: (3383, 56)\n",
            "0:\tlearn: 0.6698197\ttest: 0.5911913\tbest: 0.5911913 (0)\ttotal: 282ms\tremaining: 23m 28s\n",
            "250:\tlearn: 0.7549512\ttest: 0.6157257\tbest: 0.6201596 (25)\ttotal: 24s\tremaining: 7m 35s\n",
            "500:\tlearn: 0.7910139\ttest: 0.6172037\tbest: 0.6201596 (25)\ttotal: 43.3s\tremaining: 6m 28s\n",
            "750:\tlearn: 0.8309193\ttest: 0.6139521\tbest: 0.6201596 (25)\ttotal: 1m 2s\tremaining: 5m 52s\n",
            "1000:\tlearn: 0.8672776\ttest: 0.6148389\tbest: 0.6201596 (25)\ttotal: 1m 22s\tremaining: 5m 30s\n",
            "1250:\tlearn: 0.8947680\ttest: 0.6109962\tbest: 0.6201596 (25)\ttotal: 1m 44s\tremaining: 5m 12s\n",
            "1500:\tlearn: 0.9195980\ttest: 0.6139521\tbest: 0.6201596 (25)\ttotal: 2m 2s\tremaining: 4m 46s\n",
            "Stopped by overfitting detector  (1500 iterations wait)\n",
            "\n",
            "bestTest = 0.6201596216\n",
            "bestIteration = 25\n",
            "\n",
            "Shrink model to first 26 iterations.\n",
            "Fold Accuracy_Score:0.6201596216375997 \n",
            "\n",
            "Fold F1 Score: 0.6248175182481752 \n",
            "\n",
            "train: (6766, 56)\n",
            "val: (3383, 56)\n",
            "0:\tlearn: 0.6368608\ttest: 0.6136565\tbest: 0.6136565 (0)\ttotal: 79.1ms\tremaining: 6m 35s\n",
            "250:\tlearn: 0.7023352\ttest: 0.6343482\tbest: 0.6361218 (45)\ttotal: 25.8s\tremaining: 8m 7s\n",
            "500:\tlearn: 0.7310080\ttest: 0.6370086\tbest: 0.6387821 (384)\ttotal: 50.5s\tremaining: 7m 33s\n",
            "750:\tlearn: 0.7573160\ttest: 0.6343482\tbest: 0.6396689 (658)\ttotal: 1m 11s\tremaining: 6m 44s\n",
            "1000:\tlearn: 0.7840674\ttest: 0.6352350\tbest: 0.6396689 (658)\ttotal: 1m 38s\tremaining: 6m 31s\n",
            "1250:\tlearn: 0.8099320\ttest: 0.6361218\tbest: 0.6396689 (658)\ttotal: 2m\tremaining: 6m 1s\n",
            "1500:\tlearn: 0.8301803\ttest: 0.6370086\tbest: 0.6396689 (658)\ttotal: 2m 21s\tremaining: 5m 29s\n",
            "1750:\tlearn: 0.8505764\ttest: 0.6343482\tbest: 0.6396689 (658)\ttotal: 2m 42s\tremaining: 5m\n",
            "2000:\tlearn: 0.8731895\ttest: 0.6358262\tbest: 0.6396689 (658)\ttotal: 3m 6s\tremaining: 4m 39s\n",
            "Stopped by overfitting detector  (1500 iterations wait)\n",
            "\n",
            "bestTest = 0.6396689329\n",
            "bestIteration = 658\n",
            "\n",
            "Shrink model to first 659 iterations.\n",
            "Fold Accuracy_Score:0.6396689328997931 \n",
            "\n",
            "Fold F1 Score: 0.64115395937592 \n",
            "\n",
            "train: (10149, 56)\n",
            "val: (3383, 56)\n",
            "0:\tlearn: 0.6252833\ttest: 0.5545374\tbest: 0.5545374 (0)\ttotal: 197ms\tremaining: 16m 26s\n",
            "250:\tlearn: 0.6851907\ttest: 0.5648832\tbest: 0.5707952 (16)\ttotal: 25.6s\tremaining: 8m 4s\n",
            "500:\tlearn: 0.7102178\ttest: 0.5731599\tbest: 0.5734555 (491)\ttotal: 51.2s\tremaining: 7m 39s\n",
            "750:\tlearn: 0.7306139\ttest: 0.5778894\tbest: 0.5784806 (745)\ttotal: 1m 15s\tremaining: 7m 6s\n",
            "1000:\tlearn: 0.7530791\ttest: 0.5716819\tbest: 0.5784806 (745)\ttotal: 1m 38s\tremaining: 6m 35s\n",
            "1250:\tlearn: 0.7737708\ttest: 0.5743423\tbest: 0.5784806 (745)\ttotal: 2m 4s\tremaining: 6m 12s\n",
            "1500:\tlearn: 0.7913095\ttest: 0.5752291\tbest: 0.5784806 (745)\ttotal: 2m 44s\tremaining: 6m 23s\n",
            "1750:\tlearn: 0.8066805\ttest: 0.5752291\tbest: 0.5784806 (745)\ttotal: 3m 29s\tremaining: 6m 29s\n",
            "2000:\tlearn: 0.8240221\ttest: 0.5784806\tbest: 0.5796630 (1883)\ttotal: 3m 56s\tremaining: 5m 54s\n",
            "2250:\tlearn: 0.8376195\ttest: 0.5784806\tbest: 0.5802542 (2127)\ttotal: 4m 24s\tremaining: 5m 23s\n",
            "2500:\tlearn: 0.8520051\ttest: 0.5787762\tbest: 0.5802542 (2127)\ttotal: 4m 47s\tremaining: 4m 47s\n",
            "2750:\tlearn: 0.8666864\ttest: 0.5775939\tbest: 0.5802542 (2127)\ttotal: 5m 11s\tremaining: 4m 14s\n",
            "3000:\tlearn: 0.8819588\ttest: 0.5793674\tbest: 0.5811410 (2917)\ttotal: 5m 33s\tremaining: 3m 42s\n",
            "3250:\tlearn: 0.8957533\ttest: 0.5755247\tbest: 0.5811410 (2917)\ttotal: 5m 59s\tremaining: 3m 13s\n",
            "3500:\tlearn: 0.9125037\ttest: 0.5731599\tbest: 0.5811410 (2917)\ttotal: 6m 20s\tremaining: 2m 42s\n",
            "3750:\tlearn: 0.9282688\ttest: 0.5716819\tbest: 0.5811410 (2917)\ttotal: 6m 41s\tremaining: 2m 13s\n",
            "4000:\tlearn: 0.9413735\ttest: 0.5731599\tbest: 0.5811410 (2917)\ttotal: 7m 7s\tremaining: 1m 46s\n",
            "4250:\tlearn: 0.9530003\ttest: 0.5722731\tbest: 0.5811410 (2917)\ttotal: 7m 29s\tremaining: 1m 19s\n",
            "Stopped by overfitting detector  (1500 iterations wait)\n",
            "\n",
            "bestTest = 0.5811409991\n",
            "bestIteration = 2917\n",
            "\n",
            "Shrink model to first 2918 iterations.\n",
            "Fold Accuracy_Score:0.5811409991132132 \n",
            "\n",
            "Fold F1 Score: 0.582129165437924 \n",
            "\n",
            "train: (13532, 56)\n",
            "val: (3383, 56)\n",
            "0:\tlearn: 0.6249631\ttest: 0.6044931\tbest: 0.6044931 (0)\ttotal: 87.2ms\tremaining: 7m 15s\n",
            "250:\tlearn: 0.6811262\ttest: 0.6018327\tbest: 0.6065622 (50)\ttotal: 28.9s\tremaining: 9m 6s\n",
            "500:\tlearn: 0.7014484\ttest: 0.6092226\tbest: 0.6101094 (496)\ttotal: 57.1s\tremaining: 8m 33s\n",
            "750:\tlearn: 0.7197014\ttest: 0.6092226\tbest: 0.6130653 (605)\ttotal: 1m 24s\tremaining: 8m\n",
            "1000:\tlearn: 0.7408365\ttest: 0.6118829\tbest: 0.6133609 (907)\ttotal: 1m 48s\tremaining: 7m 14s\n",
            "1250:\tlearn: 0.7599025\ttest: 0.6115873\tbest: 0.6133609 (907)\ttotal: 2m 15s\tremaining: 6m 47s\n",
            "1500:\tlearn: 0.7747561\ttest: 0.6109962\tbest: 0.6133609 (907)\ttotal: 2m 44s\tremaining: 6m 23s\n",
            "1750:\tlearn: 0.7904966\ttest: 0.6071534\tbest: 0.6133609 (907)\ttotal: 3m 9s\tremaining: 5m 51s\n",
            "2000:\tlearn: 0.8032811\ttest: 0.6053798\tbest: 0.6133609 (907)\ttotal: 3m 33s\tremaining: 5m 20s\n",
            "2250:\tlearn: 0.8179131\ttest: 0.6036063\tbest: 0.6133609 (907)\ttotal: 3m 59s\tremaining: 4m 52s\n",
            "Stopped by overfitting detector  (1500 iterations wait)\n",
            "\n",
            "bestTest = 0.6133609223\n",
            "bestIteration = 907\n",
            "\n",
            "Shrink model to first 908 iterations.\n",
            "Fold Accuracy_Score:0.6133609222583506 \n",
            "\n",
            "Fold F1 Score: 0.6152941176470588 \n",
            "\n",
            "train: (16915, 56)\n",
            "val: (3383, 56)\n",
            "0:\tlearn: 0.6163760\ttest: 0.5663612\tbest: 0.5663612 (0)\ttotal: 94.6ms\tremaining: 7m 52s\n",
            "250:\tlearn: 0.6651493\ttest: 0.5790718\tbest: 0.5823234 (135)\ttotal: 28.8s\tremaining: 9m 4s\n",
            "500:\tlearn: 0.6824121\ttest: 0.5811410\tbest: 0.5823234 (135)\ttotal: 55.1s\tremaining: 8m 14s\n",
            "750:\tlearn: 0.6973101\ttest: 0.5829146\tbest: 0.5843926 (727)\ttotal: 1m 23s\tremaining: 7m 53s\n",
            "1000:\tlearn: 0.7145729\ttest: 0.5840970\tbest: 0.5843926 (727)\ttotal: 1m 56s\tremaining: 7m 46s\n",
            "1250:\tlearn: 0.7296482\ttest: 0.5799586\tbest: 0.5843926 (727)\ttotal: 2m 26s\tremaining: 7m 17s\n",
            "1500:\tlearn: 0.7446054\ttest: 0.5832102\tbest: 0.5843926 (727)\ttotal: 2m 52s\tremaining: 6m 42s\n",
            "1750:\tlearn: 0.7589122\ttest: 0.5849837\tbest: 0.5858705 (1701)\ttotal: 3m 18s\tremaining: 6m 7s\n",
            "2000:\tlearn: 0.7724505\ttest: 0.5861661\tbest: 0.5882353 (1934)\ttotal: 3m 43s\tremaining: 5m 35s\n",
            "2250:\tlearn: 0.7855158\ttest: 0.5864617\tbest: 0.5891221 (2054)\ttotal: 4m 14s\tremaining: 5m 10s\n",
            "2500:\tlearn: 0.7975761\ttest: 0.5888265\tbest: 0.5903045 (2433)\ttotal: 4m 38s\tremaining: 4m 38s\n",
            "2750:\tlearn: 0.8095773\ttest: 0.5897133\tbest: 0.5906001 (2538)\ttotal: 5m 5s\tremaining: 4m 9s\n",
            "3000:\tlearn: 0.8221697\ttest: 0.5879397\tbest: 0.5914868 (2847)\ttotal: 5m 29s\tremaining: 3m 39s\n",
            "3250:\tlearn: 0.8350576\ttest: 0.5885309\tbest: 0.5914868 (2847)\ttotal: 5m 55s\tremaining: 3m 11s\n",
            "3500:\tlearn: 0.8476500\ttest: 0.5903045\tbest: 0.5920780 (3480)\ttotal: 6m 18s\tremaining: 2m 42s\n",
            "3750:\tlearn: 0.8632575\ttest: 0.5920780\tbest: 0.5929648 (3719)\ttotal: 6m 43s\tremaining: 2m 14s\n",
            "4000:\tlearn: 0.8759681\ttest: 0.5941472\tbest: 0.5950340 (3969)\ttotal: 7m 8s\tremaining: 1m 46s\n",
            "4250:\tlearn: 0.8921667\ttest: 0.5908957\tbest: 0.5950340 (3969)\ttotal: 7m 34s\tremaining: 1m 20s\n",
            "4500:\tlearn: 0.9036949\ttest: 0.5891221\tbest: 0.5950340 (3969)\ttotal: 7m 59s\tremaining: 53.2s\n",
            "4750:\tlearn: 0.9155779\ttest: 0.5885309\tbest: 0.5950340 (3969)\ttotal: 8m 30s\tremaining: 26.8s\n",
            "4999:\tlearn: 0.9262785\ttest: 0.5873485\tbest: 0.5950340 (3969)\ttotal: 8m 54s\tremaining: 0us\n",
            "\n",
            "bestTest = 0.5950339935\n",
            "bestIteration = 3969\n",
            "\n",
            "Shrink model to first 3970 iterations.\n",
            "Fold Accuracy_Score:0.5950339934968962 \n",
            "\n",
            "Fold F1 Score: 0.5946745562130178 \n",
            "\n"
          ]
        }
      ]
    },
    {
      "cell_type": "code",
      "source": [],
      "metadata": {
        "id": "2UelJmEyLJsk"
      },
      "execution_count": null,
      "outputs": []
    }
  ]
}